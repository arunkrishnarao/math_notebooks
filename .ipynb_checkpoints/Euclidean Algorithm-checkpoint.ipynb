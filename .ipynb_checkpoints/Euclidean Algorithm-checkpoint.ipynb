{
 "cells": [
  {
   "cell_type": "markdown",
   "id": "46f1e831",
   "metadata": {},
   "source": [
    "### Euclidean Algorithm\n",
    "#### Verbose Euclidean Algorithm, efficient method for finding the Greatest Common Divisor (GCD) of two integers."
   ]
  },
  {
   "cell_type": "markdown",
   "id": "4cb21fef",
   "metadata": {},
   "source": [
    "- Start with two positive integers, a (larger) and b (smaller), for which you want to find the GCD.\n",
    "\n",
    "- Divide a by b and obtain the remainder, r (where q is the quotient and r < b)\n",
    "\n",
    "$$ a = b \\cdot q + r  $$\n",
    "\n",
    "- Replace a with b and b with r.\n",
    "$$ a = b, b = r  $$\n",
    "- Repeat steps 2 and 3 until the remainder r becomes 0.\n",
    "\n",
    "- The GCD is the value of the non-zero remainder obtained in the previous step."
   ]
  },
  {
   "cell_type": "code",
   "execution_count": 6,
   "id": "e699fe73",
   "metadata": {},
   "outputs": [
    {
     "name": "stdout",
     "output_type": "stream",
     "text": [
      "Enter value of a: 45\n",
      "Enter value of b: 75\n",
      "\n",
      "75 = 45 * 1 + 30\n",
      "45 = 30 * 1 + 15\n",
      "30 = 15 * 2 + 0\n",
      "\n",
      "GCD(45, 75) = 15\n"
     ]
    }
   ],
   "source": [
    "# Euclidean algorithm for finding the Greatest Common Divisor of two numbers, a and b (Verbose)\n",
    "a = abs(int(input(\"Enter value of a: \")))\n",
    "b = abs(int(input(\"Enter value of b: \")))\n",
    "\n",
    "_a = a\n",
    "_b = b\n",
    "stack = []\n",
    "# Swap numbers if first input is smaller the second input\n",
    "if a < b:\n",
    "    a, b = b, a\n",
    "print()\n",
    "# Case 1: If smaller input perfectly divides the larger input\n",
    "if a % b == 0:\n",
    "    gcd = min([a, b])\n",
    "    q = a // b\n",
    "    r = a % b\n",
    "    print(f\"{a} = {b} * {q} + {r}\")\n",
    "    print(f\"GCD({_a}, {_b}) = {gcd}\")\n",
    "else:\n",
    "    # Case 2: If smaller input does not perfectly divides the larger input\n",
    "    while True:\n",
    "        # Find quotient and remainder when a is divided by b\n",
    "        q = a // b\n",
    "        r = a % b\n",
    "        print(f\"{a} = {b} * {q} + {r}\")\n",
    "        # Push the equation to stack (For finding suitable x and y)\n",
    "        stack.append([a, b, q, r])\n",
    "        a = b\n",
    "        b = r\n",
    "        if r == 0:\n",
    "            # If remainder is 0, print the GCD as remainder from previous step\n",
    "            print(f\"\\nGCD({_a}, {_b}) = {prev}\")\n",
    "            gcd = prev\n",
    "            break\n",
    "        # Save remainder from the current step to pass to next step\n",
    "        prev = r"
   ]
  },
  {
   "cell_type": "markdown",
   "id": "aac83df1",
   "metadata": {},
   "source": [
    "### Extended Euclidean Algorithm\n",
    "#### Verbose Extended Euclidean Algorithm with finding suitable x and y such that:\n",
    "$$ ax + by = GCD(a, b) $$"
   ]
  },
  {
   "cell_type": "code",
   "execution_count": 9,
   "id": "2db6ba39",
   "metadata": {},
   "outputs": [
    {
     "name": "stdout",
     "output_type": "stream",
     "text": [
      "Enter value of a: 45\n",
      "Enter value of b: 75\n",
      "\n",
      "75 = 45 * 1 + 30\n",
      "45 = 30 * 1 + 15\n",
      "30 = 15 * 2 + 0\n",
      "GCD(45, 75) = 15\n",
      "\n",
      "Extended Euclidean algorithm\n",
      "\n",
      "15 = 45 * 15 + 30 * -1, False\n",
      "15 = 75 * -1 + 45 * 16, False\n",
      "x = -1, y = 16\n"
     ]
    }
   ],
   "source": [
    "\"\"\"\n",
    "Extended Euclidean algorithm for finding the Greatest Common Divisor of two numbers, a and b,\n",
    "and finding suitable x and y such that ax+by=GCD(a, b)  \n",
    "(Verbose)\n",
    "\"\"\"\n",
    "a = abs(int(input(\"Enter value of a: \")))\n",
    "b = abs(int(input(\"Enter value of b: \")))\n",
    "\n",
    "_a = a\n",
    "_b = b\n",
    "stack = []\n",
    "# Swap numbers if first input is smaller the second input\n",
    "if a < b:\n",
    "    a, b = b, a\n",
    "print()\n",
    "# Case 1: If smaller input divides the larger input\n",
    "if a % b == 0:\n",
    "    gcd = min([a, b])\n",
    "    print(f\"GCD({_a}, {_b}) = {gcd}\")\n",
    "    print(f\"{gcd} = {a} + {b} * {-(a//b - 1)}\")\n",
    "    print(f\"x = {1}, y = {-(a//b - 1)}\")\n",
    "else:\n",
    "    # Case 2: If smaller input does not divides the larger input\n",
    "    while True:\n",
    "        # Find quotient and remainder when a is divided by b\n",
    "        q = a // b\n",
    "        r = a % b\n",
    "        print(f\"{a} = {b} * {q} + {r}\")\n",
    "        # Push the equation to stack (For finding suitable x and y)\n",
    "        stack.append([a, b, q, r])\n",
    "        a = b\n",
    "        b = r\n",
    "        if r == 0:\n",
    "            # If remainder is 0, print the GCD as remainder from previous step\n",
    "            print(f\"GCD({_a}, {_b}) = {prev}\")\n",
    "            gcd = prev\n",
    "            print(\"\\nExtended Euclidean algorithm\\n\")\n",
    "\n",
    "            # Finding suitable x and y\n",
    "            # Pop last element from stack and initilize value of x and y\n",
    "            a, b, q, r = stack.pop()\n",
    "            x = b\n",
    "            a, b, q, r_ = stack[-1]\n",
    "            y = q\n",
    "\n",
    "            # Step counter, i\n",
    "            i = 0\n",
    "            while True:\n",
    "                i+=1\n",
    "                a, b, q, r = stack.pop()\n",
    "                # If number of steps is even, x is negetive and y is positive\n",
    "                if i%2 == 0:\n",
    "                    print(f\"{gcd} = {a} * {-x} + {b} * {y}, {gcd == a * (-x) + b * y}\")\n",
    "                else:\n",
    "                    # If number of steps is odd, x is positive and y is negetive\n",
    "                    print(f\"{gcd} = {a} * {x} + {b} * {-y}, {gcd == a * x + b * (-y)}\")\n",
    "                # Stop if stack is empty\n",
    "                if len(stack) > 0:\n",
    "                    a, b, q_, r_ = stack[-1]\n",
    "                    x, y = y, (y*q_ + x)\n",
    "                else:\n",
    "                    if i%2 == 0:\n",
    "                        print(f\"x = {-x}, y = {y}\")\n",
    "                    else:\n",
    "                        print(f\"x = {x}, y = {-y}\")\n",
    "                    break\n",
    "            break\n",
    "        # Save remainder from the current step to pass to next step\n",
    "        prev = r"
   ]
  }
 ],
 "metadata": {
  "kernelspec": {
   "display_name": "Python 3 (ipykernel)",
   "language": "python",
   "name": "python3"
  },
  "language_info": {
   "codemirror_mode": {
    "name": "ipython",
    "version": 3
   },
   "file_extension": ".py",
   "mimetype": "text/x-python",
   "name": "python",
   "nbconvert_exporter": "python",
   "pygments_lexer": "ipython3",
   "version": "3.9.5"
  }
 },
 "nbformat": 4,
 "nbformat_minor": 5
}
