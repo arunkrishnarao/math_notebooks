{
 "cells": [
  {
   "cell_type": "markdown",
   "id": "fc52f48c",
   "metadata": {},
   "source": [
    "## Midpoint Circle Drawing Algorithm\n",
    "\n",
    "- The Midpoint Circle Drawing Algorithm is used to approximate the pixels needed to draw a circle on a grid. It is a variation of Bresenham's line algorithm, adapted for drawing circles."
   ]
  },
  {
   "cell_type": "code",
   "execution_count": 22,
   "id": "289db901",
   "metadata": {},
   "outputs": [
    {
     "name": "stdout",
     "output_type": "stream",
     "text": [
      "Enter the center point of circle: \n",
      "xc: 0\n",
      "yc: 0\n",
      "\n",
      "Enter the radius of circle: \n",
      "r: 5\n",
      "\n",
      "Solution\n",
      "p0 = 1-r = -4\n",
      "x = 0 and y = 5\n",
      "=> p0 = -4, p is negetive, x = 0 + 1 = 1 and y = 5\n",
      "\n",
      "p1 = p0 + 2*x + 1\n",
      "=> p1 = -4 + 2 + 1 = -1\n",
      "=> p1 = -1, p is negetive, x = 1 + 1 = 2 and y = 5\n",
      "\n",
      "p2 = p1 + 2*x + 1\n",
      "=> p2 = -1 + 4 + 1 = 4\n",
      "=> p2 = 4, p is possitive, x = 2 + 1 = 3 and y = 5 - 1 = 4\n",
      "\n",
      "p3 = p2 - 2*y + 2*x + 1\n",
      "=> p3 = 4 - 8 + 6 + 1 = 3\n",
      "=> p3 = 3, p is possitive, x = 3 + 1 = 4 and y = 4 - 1 = 3\n",
      "\n",
      "p4 = p3 - 2*y + 2*x + 1\n",
      "=> p4 = 3 - 6 + 8 + 1 = 6\n"
     ]
    },
    {
     "data": {
      "text/html": [
       "<div>\n",
       "<style scoped>\n",
       "    .dataframe tbody tr th:only-of-type {\n",
       "        vertical-align: middle;\n",
       "    }\n",
       "\n",
       "    .dataframe tbody tr th {\n",
       "        vertical-align: top;\n",
       "    }\n",
       "\n",
       "    .dataframe thead th {\n",
       "        text-align: right;\n",
       "    }\n",
       "</style>\n",
       "<table border=\"1\" class=\"dataframe\">\n",
       "  <thead>\n",
       "    <tr style=\"text-align: right;\">\n",
       "      <th></th>\n",
       "      <th>i</th>\n",
       "      <th>decision factor</th>\n",
       "      <th>x-value</th>\n",
       "      <th>y-value</th>\n",
       "    </tr>\n",
       "  </thead>\n",
       "  <tbody>\n",
       "    <tr>\n",
       "      <th>0</th>\n",
       "      <td>0</td>\n",
       "      <td>-4</td>\n",
       "      <td>0</td>\n",
       "      <td>5</td>\n",
       "    </tr>\n",
       "    <tr>\n",
       "      <th>1</th>\n",
       "      <td>0</td>\n",
       "      <td>-4</td>\n",
       "      <td>1</td>\n",
       "      <td>5</td>\n",
       "    </tr>\n",
       "    <tr>\n",
       "      <th>2</th>\n",
       "      <td>1</td>\n",
       "      <td>-1</td>\n",
       "      <td>2</td>\n",
       "      <td>5</td>\n",
       "    </tr>\n",
       "    <tr>\n",
       "      <th>3</th>\n",
       "      <td>2</td>\n",
       "      <td>4</td>\n",
       "      <td>3</td>\n",
       "      <td>4</td>\n",
       "    </tr>\n",
       "    <tr>\n",
       "      <th>4</th>\n",
       "      <td>3</td>\n",
       "      <td>3</td>\n",
       "      <td>4</td>\n",
       "      <td>3</td>\n",
       "    </tr>\n",
       "  </tbody>\n",
       "</table>\n",
       "</div>"
      ],
      "text/plain": [
       "   i  decision factor  x-value  y-value\n",
       "0  0               -4        0        5\n",
       "1  0               -4        1        5\n",
       "2  1               -1        2        5\n",
       "3  2                4        3        4\n",
       "4  3                3        4        3"
      ]
     },
     "execution_count": 22,
     "metadata": {},
     "output_type": "execute_result"
    }
   ],
   "source": [
    "import pandas as pd\n",
    "table = []\n",
    "\n",
    "\n",
    "print(\"Enter the center point of circle: \")\n",
    "xc = int(input(\"xc: \"))\n",
    "yc = int(input(\"yc: \"))\n",
    "\n",
    "print(\"\\nEnter the radius of circle: \")\n",
    "r = int(input(\"r: \"))\n",
    "\n",
    "print(\"\\nSolution\")\n",
    "x = 0\n",
    "y = r\n",
    "\n",
    "# Compute Decision factor\n",
    "p = 1 - r\n",
    "i = 0\n",
    "print(f\"p0 = 1-r = {p}\")\n",
    "print(f\"x = {x} and y = {y}\")\n",
    "table.append([i, p, x, y])\n",
    "i = 1\n",
    "while (y > x):\n",
    "    if p < 0: # Negetive Decision factor\n",
    "        print(f\"=> p{i-1} = {p}, p is negetive, x = {x} + 1 = {x+1} and y = {y}\")\n",
    "        x += 1\n",
    "        print(f\"\\np{i} = p{i-1} + 2*x + 1\\n=> p{i} = {p} + {2*x} + 1 = {p + 2*x + 1}\" )\n",
    "        table.append([i-1, p, x, y])\n",
    "        p = p + 2*x + 1\n",
    "    else: # Non-Negetive Decision factor\n",
    "        print(f\"=> p{i-1} = {p}, p is possitive, x = {x} + 1 = {x+1} and y = {y} - 1 = {y - 1}\")\n",
    "        y -= 1\n",
    "        x += 1\n",
    "        print(f\"\\np{i} = p{i-1} - 2*y + 2*x + 1\\n=> p{i} = {p} - {2*y} + {2*x} + 1 = {p - 2*y + 2*x + 1}\" )\n",
    "        table.append([i-1, p, x, y])\n",
    "        p = p - 2*y + 2*x + 1\n",
    "    i += 1\n",
    "\n",
    "df = pd.DataFrame(table)\n",
    "df.columns =['i', 'decision factor', 'x-value', 'y-value']\n",
    "df"
   ]
  },
  {
   "cell_type": "code",
   "execution_count": 23,
   "id": "438af72f",
   "metadata": {},
   "outputs": [
    {
     "data": {
      "image/png": "[encoded data removed]",
      "text/plain": [
       "<Figure size 500x500 with 1 Axes>"
      ]
     },
     "metadata": {},
     "output_type": "display_data"
    }
   ],
   "source": [
    "import matplotlib.pyplot as plt\n",
    "\n",
    "plt.figure(figsize=(5, 5), dpi=100)\n",
    "plt.xlim(-10, 10)\n",
    "plt.ylim(-10, 10)\n",
    "\n",
    "plt.plot(xc + df['x-value'], yc + df['y-value']) # Octant 1\n",
    "plt.plot(xc + df['y-value'], yc + df['x-value']) # Octant 2\n",
    "plt.plot(xc - df['y-value'], yc + df['x-value']) # Octant 3\n",
    "plt.plot(xc - df['x-value'], yc + df['y-value']) # Octant 4\n",
    "plt.plot(xc - df['x-value'], yc - df['y-value']) # Octant 5\n",
    "plt.plot(xc - df['y-value'], yc - df['x-value']) # Octant 6\n",
    "plt.plot(xc + df['y-value'], yc - df['x-value']) # Octant 7\n",
    "plt.plot(xc + df['x-value'], yc - df['y-value']) # Octant 8\n",
    "\n",
    "plt.grid()"
   ]
  }
 ],
 "metadata": {
  "kernelspec": {
   "display_name": "Python 3 (ipykernel)",
   "language": "python",
   "name": "python3"
  },
  "language_info": {
   "codemirror_mode": {
    "name": "ipython",
    "version": 3
   },
   "file_extension": ".py",
   "mimetype": "text/x-python",
   "name": "python",
   "nbconvert_exporter": "python",
   "pygments_lexer": "ipython3",
   "version": "3.9.5"
  }
 },
 "nbformat": 4,
 "nbformat_minor": 5
}
